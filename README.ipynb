{
 "cells": [
  {
   "cell_type": "markdown",
   "metadata": {},
   "source": [
    "# Joint Spectrum\n",
    "\n",
    "Analysis of and operations on joint spectral amplitude functions."
   ]
  },
  {
   "cell_type": "markdown",
   "metadata": {},
   "source": [
    "## Rotated Elliptical Gaussian\n",
    "\n",
    "A Gaussian ellipse aligned with the $x$ or $y$ axis has the form:\n",
    "\n",
    "$$ \\exp{(-\\frac{x^2}{2\\sigma^2})} \\exp{(-\\frac{y^2}{2\\rho^2})} $$\n",
    "\n",
    "An arbitrary ellipse has cross terms however, and can be written in the form:\n",
    "\n",
    "$$ \\exp{(-Ax^2-2Bxy-Cy^2)} $$\n",
    "\n",
    "which is an aligned Gaussian ellipse that has been rotated clockwise by angle $\\theta$ [[ref]](https://en.wikipedia.org/wiki/Gaussian_function#Meaning_of_parameters_for_the_general_equation), where\n",
    "\n",
    "$$ A = \\frac{\\cos^2\\theta}{2\\sigma^2} + \\frac{\\sin^2\\theta}{2\\rho^2} $$\n",
    "\n",
    "$$ B = (\\frac{1}{4\\sigma^2} - \\frac{1}{4\\rho^2})\\sin 2\\theta $$\n",
    "\n",
    "$$ C = \\frac{\\sin^2\\theta}{2\\sigma^2} + \\frac{\\cos^2\\theta}{2\\rho^2} $$\n",
    "\n",
    "And the reverse:\n",
    "\n",
    "$$ \\theta = -\\frac{1}{2} \\arctan (\\frac{2B}{A-C}) $$\n",
    "\n",
    "$$ \\frac{1}{2\\sigma^2} = A\\cos^2\\theta - 2B\\cos\\theta\\sin\\theta + C\\sin^2\\theta $$\n",
    "\n",
    "$$ \\frac{1}{2\\rho^2} = A\\sin^2\\theta + 2B\\cos\\theta\\sin\\theta + C\\cos^2\\theta $$\n",
    "\n"
   ]
  },
  {
   "cell_type": "code",
   "execution_count": 1,
   "metadata": {},
   "outputs": [
    {
     "data": {
      "text/plain": [
       "((0.13032744659164647, 0.20195303635389517, 0.38967255340835355),\n",
       " (0.5, 5.0, 1.0))"
      ]
     },
     "execution_count": 1,
     "metadata": {},
     "output_type": "execute_result"
    }
   ],
   "source": [
    "from jointspectrum import *\n",
    "a,b,c = abc(θ=0.5,σ=5,ρ=1)\n",
    "θ,σ,ρ = θσρ(a=a,b=b,c=c)\n",
    "(a,b,c),(θ,σ,ρ)"
   ]
  },
  {
   "cell_type": "markdown",
   "metadata": {},
   "source": [
    "## Elliptical Gaussian Purity\n",
    "\n",
    "$$f(x,y) = \\exp{\\left( -A x^2 + 2B xy - C y^2 \\right)}$$\n",
    "\n",
    "We will show the Gaussian ellipse has a purity\n",
    "\n",
    "$$ P = \\sqrt{1-\\frac{B^2}{AC}}. $$\n",
    "\n",
    "Define:\n",
    "\n",
    "$$ A = \\frac{1+\\mu^2}{2(1-\\mu^2)} \\alpha_1^2 $$\n",
    "$$ B = \\frac{\\mu}{1-\\mu^2} \\alpha_1\\alpha_2 $$\n",
    "$$ C = \\frac{1+\\mu^2}{2(1-\\mu^2)} \\alpha_2^2 $$\n",
    "\n",
    "Then $f$ has the following Schmidt decomposition [[ref]](https://arxiv.org/abs/quant-ph/0305192):\n",
    "\n",
    "$$ f(x,y) = \\sum_{n=0}^{\\infty} \\sqrt{λ_n} u_n(\\alpha_1 x) u_n(\\alpha_2 y) $$\n",
    "\n",
    "where\n",
    "\n",
    "$$ u_n(x) = \\frac{1}{\\sqrt{2^nn!}} H_n(x) e^{-\\frac{1}{2}x^2} $$\n",
    "\n",
    "$$ λ_n = (1-\\mu^2) \\mu^{2n} $$\n",
    "\n",
    "and $H_n(x)$ are the Hermite polynomials [[ref]](https://en.wikipedia.org/wiki/Hermite_polynomials)\n",
    "\n",
    "<!-- $H_0(x)=1$, $H_1(x)=2x$, $H_2(x)=4x^2-2$, $H_3(x)=8x^3-12x$, $H_4(x)=16x^4-48x^2+12$, ... -->\n",
    "\n",
    "$$ H_0(x) = 1 $$\n",
    "$$ H_1(x) = 2x $$\n",
    "$$ H_2(x) = 4x^2 - 2 $$\n",
    "$$ H_3(x) = 8x^3 - 12x $$\n",
    "\n",
    "Furthermore, the Schmidt number K and purity P are\n",
    "\n",
    "$$ P = \\frac{1}{K} = \\frac{1-\\mu^2}{1+\\mu^2}. $$\n",
    "\n",
    "Observe that the quantity\n",
    "\n",
    "$$ 1 - \\frac{B^2}{AC} = \\left( \\frac{1-\\mu^2}{1+\\mu^2} \\right)^2 = P^2 $$\n",
    "\n",
    "so the purity in terms of $A$, $B$, $C$ is:\n",
    "\n",
    "$$ P = \\sqrt{1-\\frac{B^2}{AC}} $$\n",
    "\n",
    "To obtain the Schmidt decomposition in terms of $A$, $B$, $C$, note that\n",
    "\n",
    "$$ \\alpha_1 = \\sqrt{2AP}, $$\n",
    "\n",
    "$$ \\alpha_2 = \\sqrt{2CP}, $$\n",
    "\n",
    "$$ \\mu = \\frac{B}{|B|}\\sqrt{\\frac{1-P}{1+P}}. $$\n",
    "\n"
   ]
  },
  {
   "cell_type": "code",
   "execution_count": 2,
   "metadata": {},
   "outputs": [
    {
     "data": {
      "text/plain": [
       "0.9354143466934853"
      ]
     },
     "execution_count": 2,
     "metadata": {},
     "output_type": "execute_result"
    }
   ],
   "source": [
    "ellipticalgaussianpurity(a=2,b=0.5,c=1)\n"
   ]
  },
  {
   "cell_type": "markdown",
   "metadata": {},
   "source": [
    "## SPDC Joint Spectrum\n",
    "\n",
    "The joint spectral amplitude for spontaneous parametric downconversion has the following form, where x = $ω_s-ω_{s0}$ is the signal frequency and y = $ω_i-ω_{i0}$ is the idler frequency, with an energy conservation term where $p$ is determined by the pulse bandwidth, and a momentum conservation term where $q$ is determined by the phase matching bandwidth. The phase matching angle $θ$ depends upon the dispersion of the nonlinear material.\n",
    "\n",
    "$$ f_\\mathrm{JSA}(x,y) = e^{-p(x+y)^2} e^{-q(y\\cos\\theta+x\\sin\\theta)^2} $$\n",
    "\n",
    "$$ f_\\mathrm{JSA}(x,y) = e^{-(p+q\\sin^2\\theta)x^2} e^{-2(p+q\\sin\\theta\\cos\\theta)xy} e^{-(p+q\\cos^2\\theta)y^2}$$\n",
    "\n",
    "Define:\n",
    "\n",
    "$$ A = p+q\\sin^2\\theta $$\n",
    "\n",
    "$$ B = -(p+q\\sin\\theta\\cos\\theta) $$\n",
    "\n",
    "$$ C = p+q\\cos^2\\theta $$\n",
    "\n",
    "Also defining $r ≡ p/q$, the purity is\n",
    "\n",
    "$$ P = \\sqrt{1 - \\frac{B^2}{AC}} = \\sqrt{1 - \\frac{(r+\\sin\\theta\\cos\\theta)^2}{(r+\\sin^2\\theta)(r+\\cos^2\\theta)}} $$\n",
    "\n",
    "We can observe that unit purity is obtained when θ<0 and $|r=\\sin\\theta\\cos\\theta|$. For θ>0 we find that $\\frac{d}{dr}P=0$ when $r=\\sin\\theta\\cos\\theta$. So in both cases we obtain maximum purity when\n",
    "\n",
    "$$ r = \\frac{p}{q} = |\\sin\\theta\\cos\\theta|  = \\left|\\frac{1}{2}\\sin2\\theta\\right|. $$\n",
    "\n",
    "And the maximum purity obtained is\n",
    "\n",
    "$$ P = 1 \\text{ if } -\\frac{\\pi}{2} < \\theta < 0 $$\n",
    "$$ P = \\left|\\frac{1-\\tan\\theta}{1+\\tan\\theta}\\right| \\text{ if } 0 < \\theta < \\frac{\\pi}{2} $$\n",
    "\n",
    "<!-- \n",
    "$$\n",
    "P =\n",
    "\\left\\{\n",
    "\\begin{aligned}\n",
    "&  1  & \\text{if}& & -\\frac{\\pi}{2} < \\theta < 0 \\\\\n",
    "&\\left|\\frac{1-\\tan\\theta}{1+\\tan\\theta}\\right| & \\text{if}& & 0 < \\theta < \\frac{\\pi}{2}\n",
    "\\end{aligned}\n",
    "\\right.\n",
    "$$\n",
    "-->"
   ]
  },
  {
   "cell_type": "code",
   "execution_count": 3,
   "metadata": {},
   "outputs": [
    {
     "name": "stdout",
     "output_type": "stream",
     "text": [
      "θ = 53.6122°\n",
      "p/q = 0.477576\n",
      "P = 15.1453%\n"
     ]
    }
   ],
   "source": [
    "θ = phasematchangle(780,780,sell='ktpwg',Type='yzy',degrees=False)\n",
    "r = 0.5*sin(2*θ)\n",
    "P = apodizedmaxpurity(θ)\n",
    "print(f\"θ = {θ*180/pi:g}°\")\n",
    "print(f\"p/q = {r:g}\")\n",
    "print(f\"P = {100*P:g}%\")"
   ]
  },
  {
   "cell_type": "markdown",
   "metadata": {},
   "source": [
    "## Frequency Converted Joint Spectrum\n",
    "\n",
    "Frequency conversion following SPDC results in an effective joint spectrum that depends upon the joint spectrum of the downconversion, $f_\\mathrm{JSA}≡f$ and the joint spectrum of the frequency conversion, $f_\\mathrm{JCA}≡g$\n",
    "\n",
    "$$ f(x,y) = \\exp{\\left( -A x^2 + 2B xy - C y^2 \\right)} $$\n",
    "\n",
    "$$ g(y,z) = \\exp{\\left( -D y^2 + 2E yz - F z^2 \\right)} $$\n",
    "\n",
    "The effective joint spectrum, $f_\\mathrm{eff}≡h$, is [[ref]](https://link.aps.org/accepted/10.1103/PhysRevApplied.17.064014)\n",
    "\n",
    "$$ h(x,z) = \\int f(x,y) g(y,z) dy $$\n",
    "\n",
    "$$ h(x,z) = \\exp{\\left( -A x^2 \\right)} \\exp{\\left( -F z^2 \\right)} \\int \\exp{\\left( -(C+D) y^2 + 2(Bx+Ez) y \\right)} dy $$\n",
    "\n",
    "Observe that\n",
    "\n",
    "$$ \\int e^{ -ay^2 + 2by } dy = \\int e^{ -a(y-\\frac{b}{a})^2 } e^{ \\frac{b^2}{a} } dy = \\sqrt{\\tfrac{\\pi}{a}} e^{ \\frac{b^2}{a} } $$\n",
    "\n",
    "Therefore\n",
    "\n",
    "$$ h(x,z) = \\exp{\\left( -(A-\\tfrac{B^2}{C+D}) x^2 \\right)}\n",
    "            \\exp{\\left( +2(\\tfrac{BE}{C+D}) xz \\right)} \n",
    "            \\exp{\\left( -(F-\\tfrac{E^2}{C+D}) z^2 \\right)} $$\n",
    "\n",
    "Defining $a≡\\tfrac{B^2}{AC}=1-P_\\mathrm{JSA}^2$,  $b≡\\tfrac{E^2}{DF}=1-P_\\mathrm{JCA}^2$,  $c≡\\tfrac{C}{D}$, then for the purity $P$ of the effective joint spectrum we have\n",
    "\n",
    "$$ 1-P^2 = \\frac{ab}{(1+\\tfrac{1}{c}-a)(1+c-b)} $$\n",
    "\n",
    "Maximum purity occurs when $\\frac{d}{dc}P=0$, resulting in\n",
    "\n",
    "$$ c = \\sqrt{\\frac{1-b}{1-a}} $$\n",
    "\n",
    "And the maximum purity is\n",
    "\n",
    "$$ P = \\sqrt{1-\\frac{(1-P_\\mathrm{JSA}^2)(1-P_\\mathrm{JCA}^2)}{(1+P_\\mathrm{JSA}P_\\mathrm{JCA})^2}}. $$\n",
    "\n",
    "Unit purity only results if one of the input purities is equal to one, but the output purity is always greater than either of the input purities. In fact the increase in purity is dramatic:\n"
   ]
  },
  {
   "cell_type": "code",
   "execution_count": 4,
   "metadata": {},
   "outputs": [
    {
     "name": "stdout",
     "output_type": "stream",
     "text": [
      "(0.00,0.01) → 0.01\n",
      "(0.01,0.01) → 0.019998\n",
      "(0.10,0.10) → 0.19802\n",
      "(0.50,0.50) → 0.8\n",
      "(0.90,0.90) → 0.994475\n",
      "(0.99,0.99) → 0.999949\n"
     ]
    }
   ],
   "source": [
    "for P1,P2 in [(0,0.01),(0.01,0.01),(0.1,0.1),(0.5,0.5),(0.9,0.9),(0.99,0.99)]:\n",
    "    print(f\"({P1:.2f},{P2:.2f}) → {fcspdcpurity(P1,P2):g}\")"
   ]
  }
 ],
 "metadata": {
  "kernelspec": {
   "display_name": "Python 3",
   "language": "python",
   "name": "python3.10"
  },
  "language_info": {
   "codemirror_mode": {
    "name": "ipython",
    "version": 3
   },
   "file_extension": ".py",
   "mimetype": "text/x-python",
   "name": "python",
   "nbconvert_exporter": "python",
   "pygments_lexer": "ipython3",
   "version": "3.10.6"
  }
 },
 "nbformat": 4,
 "nbformat_minor": 2
}
